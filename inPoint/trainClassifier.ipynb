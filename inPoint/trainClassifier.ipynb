{
 "cells": [
  {
   "cell_type": "code",
   "execution_count": 1,
   "metadata": {},
   "outputs": [
    {
     "name": "stderr",
     "output_type": "stream",
     "text": [
      "/users/rakesh.jasti/common_libs/miniconda2/envs/py27/lib/python2.7/site-packages/sklearn/cross_validation.py:44: DeprecationWarning: This module was deprecated in version 0.18 in favor of the model_selection module into which all the refactored classes and functions are moved. Also note that the interface of the new CV iterators are different from that of this module. This module will be removed in 0.20.\n",
      "  \"This module will be removed in 0.20.\", DeprecationWarning)\n"
     ]
    },
    {
     "name": "stdout",
     "output_type": "stream",
     "text": [
      "Populating the interactive namespace from numpy and matplotlib\n"
     ]
    }
   ],
   "source": [
    "import cPickle as pickle\n",
    "from sklearn.svm import SVC\n",
    "from sklearn.ensemble import AdaBoostClassifier\n",
    "from sklearn.tree import DecisionTreeClassifier\n",
    "from sklearn.metrics import accuracy_score\n",
    "from sklearn.model_selection import train_test_split\n",
    "from sklearn.model_selection import GridSearchCV\n",
    "from sklearn.cross_validation import StratifiedKFold\n",
    "from sklearn.metrics import precision_recall_fscore_support\n",
    "from sklearn.metrics import accuracy_score\n",
    "from sklearn.metrics import confusion_matrix\n",
    "\n",
    "from sklearn.ensemble import RandomForestClassifier\n",
    "\n",
    "import numpy as np\n",
    "import pylab as pl\n",
    "import matplotlib.pyplot as plt\n",
    "import xml.etree.cElementTree as ET\n",
    "from sklearn.decomposition import PCA\n",
    "from sklearn.preprocessing import MaxAbsScaler\n",
    "import pandas as pd\n",
    "%matplotlib inline\n",
    "%pylab inline"
   ]
  },
  {
   "cell_type": "code",
   "execution_count": 2,
   "metadata": {},
   "outputs": [],
   "source": [
    "train_p = 'data/train.pkl'\n",
    "val_p = 'data/val.pkl'\n",
    "\n",
    "with open(train_p, 'rb') as pkl:\n",
    "    train_data = pickle.load(pkl)\n",
    "\n",
    "with open(val_p, 'rb') as pkl:\n",
    "    test_data = pickle.load(pkl)"
   ]
  },
  {
   "cell_type": "code",
   "execution_count": 3,
   "metadata": {
    "collapsed": true
   },
   "outputs": [],
   "source": [
    "X_train=train_data[:,:-1]\n",
    "y_train=train_data[:,-1]\n",
    "\n",
    "X_test=test_data[:,:-1]\n",
    "y_test=test_data[:,-1]\n",
    "\n",
    "# X_train, X_test, y_train, y_test = train_test_split(X, y, test_size=0.25, random_state=66)"
   ]
  },
  {
   "cell_type": "code",
   "execution_count": 4,
   "metadata": {
    "scrolled": true
   },
   "outputs": [],
   "source": [
    "# print sum(y_train==1)\n",
    "# print sum(y_train==0)\n",
    "\n",
    "# print sum(y_test==1)\n",
    "# print sum(y_test==0)"
   ]
  },
  {
   "cell_type": "code",
   "execution_count": null,
   "metadata": {
    "collapsed": true
   },
   "outputs": [],
   "source": []
  },
  {
   "cell_type": "markdown",
   "metadata": {},
   "source": [
    "### RandomForest"
   ]
  },
  {
   "cell_type": "code",
   "execution_count": 5,
   "metadata": {},
   "outputs": [],
   "source": [
    "bdt_real = RandomForestClassifier(n_estimators=4,\n",
    "    min_samples_split=3,\n",
    "    random_state=66)\n",
    "\n",
    "bdt_real.fit(X_train, y_train);"
   ]
  },
  {
   "cell_type": "code",
   "execution_count": 6,
   "metadata": {},
   "outputs": [
    {
     "name": "stdout",
     "output_type": "stream",
     "text": [
      "Accuracy: 51.39\n",
      "[[1002  568]\n",
      " [1043  701]]\n"
     ]
    }
   ],
   "source": [
    "predicted=bdt_real.predict(X_test)\n",
    "print 'Accuracy: {:.2f}'.format(accuracy_score(y_test, predicted)*100)\n",
    "cnf_matrix = confusion_matrix(y_test, predicted)\n",
    "print cnf_matrix"
   ]
  },
  {
   "cell_type": "markdown",
   "metadata": {},
   "source": [
    "### Decision Tree"
   ]
  },
  {
   "cell_type": "code",
   "execution_count": 7,
   "metadata": {
    "collapsed": true
   },
   "outputs": [],
   "source": [
    "bdt_real = AdaBoostClassifier(\n",
    "    DecisionTreeClassifier(max_depth=4),\n",
    "    n_estimators=10,\n",
    "    learning_rate=1, random_state=66)\n",
    "\n",
    "bdt_real.fit(X_train, y_train);"
   ]
  },
  {
   "cell_type": "code",
   "execution_count": 8,
   "metadata": {},
   "outputs": [
    {
     "name": "stdout",
     "output_type": "stream",
     "text": [
      "Accuracy: 53.23\n",
      "[[ 366 1204]\n",
      " [ 346 1398]]\n"
     ]
    }
   ],
   "source": [
    "predicted=bdt_real.predict(X_test)\n",
    "print 'Accuracy: {:.2f}'.format(accuracy_score(y_test, predicted)*100)\n",
    "cnf_matrix = confusion_matrix(y_test, predicted)\n",
    "print cnf_matrix"
   ]
  },
  {
   "cell_type": "markdown",
   "metadata": {},
   "source": [
    "### SVM"
   ]
  },
  {
   "cell_type": "code",
   "execution_count": 9,
   "metadata": {
    "collapsed": true
   },
   "outputs": [],
   "source": [
    "C_range = 10. ** np.arange(2, 7, 2)\n",
    "gamma_range = 10. ** np.arange(-5, 5, 2)\n",
    "rbf_param_grid = dict(gamma=gamma_range, C=C_range)"
   ]
  },
  {
   "cell_type": "code",
   "execution_count": 10,
   "metadata": {},
   "outputs": [
    {
     "name": "stdout",
     "output_type": "stream",
     "text": [
      "('The best classifier is: ', SVC(C=100.0, cache_size=200, class_weight=None, coef0=0.0,\n",
      "  decision_function_shape=None, degree=3, gamma=0.10000000000000001,\n",
      "  kernel='rbf', max_iter=-1, probability=False, random_state=None,\n",
      "  shrinking=True, tol=0.001, verbose=False))\n"
     ]
    }
   ],
   "source": [
    "kernel = 'rbf'\n",
    "\n",
    "if kernel=='rbf':\n",
    "    grid = GridSearchCV(SVC(), param_grid=rbf_param_grid, cv=3)#StratifiedKFold(y=y_train, k=3))\n",
    "elif kernel=='poly':\n",
    "    grid = GridSearchCV(SVC(kernel='poly'), param_grid=poly_param_grid, cv=3)#StratifiedKFold(y=y_train, k=3))\n",
    "grid.fit(X_train, y_train)\n",
    "print(\"The best classifier is: \", grid.best_estimator_)"
   ]
  },
  {
   "cell_type": "code",
   "execution_count": 11,
   "metadata": {},
   "outputs": [
    {
     "name": "stdout",
     "output_type": "stream",
     "text": [
      "fscore: 34.48\n",
      "Precision: 26.31\n",
      "Recall: 50.00\n",
      "[[   0 1570]\n",
      " [   0 1744]]\n",
      "[[ 0.          0.90022936]\n",
      " [ 0.          1.        ]]\n",
      "Accuracy: 52.63\n"
     ]
    },
    {
     "name": "stderr",
     "output_type": "stream",
     "text": [
      "/users/rakesh.jasti/common_libs/miniconda2/envs/py27/lib/python2.7/site-packages/sklearn/metrics/classification.py:1113: UndefinedMetricWarning: Precision and F-score are ill-defined and being set to 0.0 in labels with no predicted samples.\n",
      "  'precision', 'predicted', average, warn_for)\n"
     ]
    }
   ],
   "source": [
    "best_model = grid.best_estimator_\n",
    "predicted=best_model.predict(X_test)\n",
    "precision, recall, fbeta_score, support = precision_recall_fscore_support(y_test, predicted,\n",
    "                                                                          average='macro')\n",
    "cnf_matrix = confusion_matrix(y_test, predicted)\n",
    "# print \"Accuracy on test data: {0:.0f}\".format(score*100)\n",
    "print 'fscore: {:.2f}\\nPrecision: {:.2f}\\nRecall: {:.2f}'.format(fbeta_score*100,precision*100,recall*100)\n",
    "print cnf_matrix\n",
    "print cnf_matrix/cnf_matrix.astype(np.float).sum(axis=1)\n",
    "print 'Accuracy: {:.2f}'.format(accuracy_score(y_test, predicted)*100)"
   ]
  },
  {
   "cell_type": "code",
   "execution_count": null,
   "metadata": {
    "collapsed": true
   },
   "outputs": [],
   "source": []
  }
 ],
 "metadata": {
  "kernelspec": {
   "display_name": "Python 2",
   "language": "python",
   "name": "python2"
  },
  "language_info": {
   "codemirror_mode": {
    "name": "ipython",
    "version": 2
   },
   "file_extension": ".py",
   "mimetype": "text/x-python",
   "name": "python",
   "nbconvert_exporter": "python",
   "pygments_lexer": "ipython2",
   "version": "2.7.13"
  }
 },
 "nbformat": 4,
 "nbformat_minor": 2
}
