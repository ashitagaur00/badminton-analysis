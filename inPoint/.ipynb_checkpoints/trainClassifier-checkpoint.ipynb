{
 "cells": [
  {
   "cell_type": "code",
   "execution_count": 2,
   "metadata": {
    "collapsed": false
   },
   "outputs": [
    {
     "name": "stderr",
     "output_type": "stream",
     "text": [
      "/home/anurag/anaconda2/lib/python2.7/site-packages/sklearn/cross_validation.py:44: DeprecationWarning: This module was deprecated in version 0.18 in favor of the model_selection module into which all the refactored classes and functions are moved. Also note that the interface of the new CV iterators are different from that of this module. This module will be removed in 0.20.\n",
      "  \"This module will be removed in 0.20.\", DeprecationWarning)\n"
     ]
    },
    {
     "name": "stdout",
     "output_type": "stream",
     "text": [
      "Populating the interactive namespace from numpy and matplotlib\n"
     ]
    }
   ],
   "source": [
    "import cPickle as pickle\n",
    "from sklearn.svm import SVC\n",
    "from sklearn.ensemble import AdaBoostClassifier\n",
    "from sklearn.tree import DecisionTreeClassifier\n",
    "from sklearn.metrics import accuracy_score\n",
    "from sklearn.model_selection import train_test_split\n",
    "from sklearn.model_selection import GridSearchCV\n",
    "from sklearn.cross_validation import StratifiedKFold\n",
    "from sklearn.metrics import precision_recall_fscore_support\n",
    "from sklearn.metrics import accuracy_score\n",
    "from sklearn.metrics import confusion_matrix\n",
    "\n",
    "from sklearn.ensemble import RandomForestClassifier\n",
    "\n",
    "import numpy as np\n",
    "import pylab as pl\n",
    "import matplotlib.pyplot as plt\n",
    "import xml.etree.cElementTree as ET\n",
    "from sklearn.decomposition import PCA\n",
    "from sklearn.preprocessing import MaxAbsScaler\n",
    "import pandas as pd\n",
    "%matplotlib inline\n",
    "%pylab inline"
   ]
  },
  {
   "cell_type": "code",
   "execution_count": 3,
   "metadata": {
    "collapsed": true
   },
   "outputs": [],
   "source": [
    "train_p = 'data/train.pkl'\n",
    "val_p = 'data/val.pkl'\n",
    "\n",
    "with open(train_p, 'rb') as pkl:\n",
    "    train_data = pickle.load(pkl)\n",
    "\n",
    "with open(val_p, 'rb') as pkl:\n",
    "    test_data = pickle.load(pkl)"
   ]
  },
  {
   "cell_type": "code",
   "execution_count": 4,
   "metadata": {
    "collapsed": true
   },
   "outputs": [],
   "source": [
    "X_train=train_data[:,:-1]\n",
    "y_train=train_data[:,-1]\n",
    "\n",
    "X_test=test_data[:,:-1]\n",
    "y_test=test_data[:,-1]\n",
    "\n",
    "# X_train, X_test, y_train, y_test = train_test_split(X, y, test_size=0.25, random_state=66)"
   ]
  },
  {
   "cell_type": "code",
   "execution_count": 16,
   "metadata": {
    "collapsed": false,
    "scrolled": true
   },
   "outputs": [
    {
     "name": "stdout",
     "output_type": "stream",
     "text": [
      "7133\n",
      "6576\n",
      "1744\n",
      "1570\n"
     ]
    }
   ],
   "source": [
    "print sum(y_train==1)\n",
    "print sum(y_train==0)\n",
    "\n",
    "print sum(y_test==1)\n",
    "print sum(y_test==0)"
   ]
  },
  {
   "cell_type": "code",
   "execution_count": 42,
   "metadata": {
    "collapsed": false
   },
   "outputs": [
    {
     "name": "stdout",
     "output_type": "stream",
     "text": [
      "(-0.0008665456048354603, 0.9191927389664778)\n",
      "(-0.010315209427154023, 0.22716928869096176)\n",
      "(-0.009547274782064836, 0.2636650666994369)\n",
      "(-0.007946649168892842, 0.3521812268179124)\n",
      "(0.00526444453640285, 0.5376715535790085)\n",
      "(-0.009822529516343135, 0.25014467460764944)\n",
      "(-0.0054708907482749975, 0.5218423718440879)\n",
      "(0.013087373368225567, 0.1254566241944711)\n",
      "(0.0016386638011848986, 0.847862599152442)\n",
      "(0.003886443045564878, 0.6491048398444612)\n",
      "(-0.010336286669437913, 0.22622109809717478)\n",
      "(-0.0011339555130652356, 0.8943850758728129)\n",
      "(-0.012674456647335844, 0.1378305168917637)\n",
      "(-0.006357990004142562, 0.456654058941532)\n",
      "(-0.01250653656043059, 0.14312372558203476)\n",
      "(-9.93521962300453e-05, 0.9907195074351011)\n",
      "(-0.006614469764899824, 0.43869667970885484)\n",
      "(-0.0002556485079549251, 0.9761228889305461)\n",
      "(0.010486686193877206, 0.21953705628794346)\n",
      "(0.008686638844142206, 0.3091508771252061)\n",
      "(-0.0031396476344081607, 0.7131906011348094)\n",
      "(-0.010815375958658944, 0.20542552371069245)\n"
     ]
    }
   ],
   "source": [
    "from scipy.stats import pearsonr\n",
    "\n",
    "for i in xrange(0, 22):\n",
    "    print(pearsonr(X_train[:,i], y_train))"
   ]
  },
  {
   "cell_type": "markdown",
   "metadata": {},
   "source": [
    "### RandomForest"
   ]
  },
  {
   "cell_type": "code",
   "execution_count": 30,
   "metadata": {
    "collapsed": true
   },
   "outputs": [],
   "source": [
    "bdt_real = RandomForestClassifier(n_estimators=4,\n",
    "    min_samples_split=3)\n",
    "\n",
    "bdt_real.fit(X_train, y_train);"
   ]
  },
  {
   "cell_type": "code",
   "execution_count": 31,
   "metadata": {
    "collapsed": false
   },
   "outputs": [
    {
     "name": "stdout",
     "output_type": "stream",
     "text": [
      "Accuracy: 50.75\n",
      "[[ 977  593]\n",
      " [1039  705]]\n"
     ]
    }
   ],
   "source": [
    "predicted=bdt_real.predict(X_test)\n",
    "print 'Accuracy: {:.2f}'.format(accuracy_score(y_test, predicted)*100)\n",
    "cnf_matrix = confusion_matrix(y_test, predicted)\n",
    "print cnf_matrix"
   ]
  },
  {
   "cell_type": "markdown",
   "metadata": {},
   "source": [
    "### Decision Tree"
   ]
  },
  {
   "cell_type": "code",
   "execution_count": 32,
   "metadata": {
    "collapsed": false
   },
   "outputs": [],
   "source": [
    "bdt_real = AdaBoostClassifier(\n",
    "    DecisionTreeClassifier(max_depth=4),\n",
    "    n_estimators=10,\n",
    "    learning_rate=1, random_state=66)\n",
    "\n",
    "bdt_real.fit(X_train, y_train);"
   ]
  },
  {
   "cell_type": "code",
   "execution_count": 43,
   "metadata": {
    "collapsed": false
   },
   "outputs": [
    {
     "name": "stdout",
     "output_type": "stream",
     "text": [
      "Accuracy: 53.23\n",
      "[[ 366 1204]\n",
      " [ 346 1398]]\n"
     ]
    }
   ],
   "source": [
    "predicted=bdt_real.predict(X_test)\n",
    "print 'Accuracy: {:.2f}'.format(accuracy_score(y_test, predicted)*100)\n",
    "cnf_matrix = confusion_matrix(y_test, predicted)\n",
    "print cnf_matrix\n",
    "print(bdt_real.feature_importances_)"
   ]
  },
  {
   "cell_type": "markdown",
   "metadata": {},
   "source": [
    "### SVM"
   ]
  },
  {
   "cell_type": "code",
   "execution_count": null,
   "metadata": {
    "collapsed": true
   },
   "outputs": [],
   "source": [
    "C_range = 10. ** np.arange(2, 7, 2)\n",
    "gamma_range = 10. ** np.arange(-5, 5, 2)\n",
    "rbf_param_grid = dict(gamma=gamma_range, C=C_range)"
   ]
  },
  {
   "cell_type": "code",
   "execution_count": null,
   "metadata": {
    "collapsed": false
   },
   "outputs": [],
   "source": [
    "kernel = 'rbf'\n",
    "\n",
    "if kernel=='rbf':\n",
    "    grid = GridSearchCV(SVC(), param_grid=rbf_param_grid, cv=3)#StratifiedKFold(y=y_train, k=3))\n",
    "elif kernel=='poly':\n",
    "    grid = GridSearchCV(SVC(kernel='poly'), param_grid=poly_param_grid, cv=3)#StratifiedKFold(y=y_train, k=3))\n",
    "grid.fit(X_train, y_train)\n",
    "print(\"The best classifier is: \", grid.best_estimator_)"
   ]
  },
  {
   "cell_type": "code",
   "execution_count": null,
   "metadata": {
    "collapsed": false
   },
   "outputs": [],
   "source": [
    "best_model = grid.best_estimator_\n",
    "predicted=best_model.predict(X_test)\n",
    "precision, recall, fbeta_score, support = precision_recall_fscore_support(y_test, predicted,\n",
    "                                                                          average='macro')\n",
    "cnf_matrix = confusion_matrix(y_test, predicted)\n",
    "# print \"Accuracy on test data: {0:.0f}\".format(score*100)\n",
    "print 'fscore: {:.2f}\\nPrecision: {:.2f}\\nRecall: {:.2f}'.format(fbeta_score*100,precision*100,recall*100)\n",
    "print cnf_matrix\n",
    "print cnf_matrix/cnf_matrix.astype(np.float).sum(axis=1)\n",
    "print 'Accuracy: {:.2f}'.format(accuracy_score(y_test, predicted)*100)"
   ]
  },
  {
   "cell_type": "code",
   "execution_count": null,
   "metadata": {
    "collapsed": true
   },
   "outputs": [],
   "source": []
  }
 ],
 "metadata": {
  "kernelspec": {
   "display_name": "Python 2",
   "language": "python",
   "name": "python2"
  },
  "language_info": {
   "codemirror_mode": {
    "name": "ipython",
    "version": 2
   },
   "file_extension": ".py",
   "mimetype": "text/x-python",
   "name": "python",
   "nbconvert_exporter": "python",
   "pygments_lexer": "ipython2",
   "version": "2.7.13"
  }
 },
 "nbformat": 4,
 "nbformat_minor": 2
}
